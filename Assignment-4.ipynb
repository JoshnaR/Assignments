{
 "cells": [
  {
   "cell_type": "markdown",
   "metadata": {},
   "source": [
    "1.1 Write a Python Program(with class concepts) to find the area of the triangle using the below\n",
    "formula.\n",
    "area = (s*(s-a)*(s-b)*(s-c)) ** 0.5\n",
    "Function to take the length of the sides of triangle from user should be defined in the parent\n",
    "class and function to calculate the area should be defined in subclass."
   ]
  },
  {
   "cell_type": "code",
   "execution_count": 48,
   "metadata": {},
   "outputs": [
    {
     "name": "stdout",
     "output_type": "stream",
     "text": [
      "Area: 42.42640687119285\n"
     ]
    }
   ],
   "source": [
    "class triangle:\n",
    "    def __init__(self,a,b,c):\n",
    "        self.a=a\n",
    "        self.b=b\n",
    "        self.c=c\n",
    "class calculate(triangle):\n",
    "    def __init__(self,*args):\n",
    "        super(calculate,self).__init__(*args)\n",
    "    def cal(self):\n",
    "        s=(self.a+self.b+self.c)/2\n",
    "        return (s*(s-self.a)*(s-self.b)*(s-self.c))**0.5\n",
    "        \n",
    "obj=calculate(9,10,11)\n",
    "print('Area:',obj.cal())"
   ]
  },
  {
   "cell_type": "markdown",
   "metadata": {},
   "source": [
    "1.2 Write a function filter_long_words() that takes a list of words and an integer n and returns\n",
    "the list of words that are longer than n."
   ]
  },
  {
   "cell_type": "code",
   "execution_count": 9,
   "metadata": {
    "scrolled": true
   },
   "outputs": [
    {
     "name": "stdout",
     "output_type": "stream",
     "text": [
      "Enter few words:asas ffd ss a\n",
      "enter a number:1\n",
      "['asas', 'ffd', 'ss']\n"
     ]
    }
   ],
   "source": [
    "def filter_long_words(a,no):\n",
    "    res=[i for i in a if len(i)>no]\n",
    "    return res\n",
    "            \n",
    "words=input('Enter few words:').split()\n",
    "n=int(input('enter a number:'))\n",
    "print(filter_long_words(words,n))"
   ]
  },
  {
   "cell_type": "markdown",
   "metadata": {},
   "source": [
    "2.1 Write a Python program using function concept that maps list of words into a list of integers\n",
    "representing the lengths of the corresponding words.\n",
    "Hint: If a list [ ab,cde,erty] is passed on to the python function output should come as [2,3,4]\n",
    "Here 2,3 and 4 are the lengths of the words in the list."
   ]
  },
  {
   "cell_type": "code",
   "execution_count": 7,
   "metadata": {},
   "outputs": [
    {
     "name": "stdout",
     "output_type": "stream",
     "text": [
      "ab cde erty\n",
      "[2, 3, 4]\n"
     ]
    }
   ],
   "source": [
    "def find_word_length(a):\n",
    "    l=[]\n",
    "    for i in a:\n",
    "        l.append(len(i))\n",
    "    return l\n",
    "lis=input().split()\n",
    "print(find_word_length(lis))"
   ]
  },
  {
   "cell_type": "markdown",
   "metadata": {},
   "source": [
    "2.2 Write a Python function which takes a character (i.e. a string of length 1) and returns True if\n",
    "it is a vowel, False otherwise."
   ]
  },
  {
   "cell_type": "code",
   "execution_count": 4,
   "metadata": {},
   "outputs": [
    {
     "name": "stdout",
     "output_type": "stream",
     "text": [
      "input a character:i\n",
      "True\n"
     ]
    }
   ],
   "source": [
    "def is_vowel(a):\n",
    "    vowels=['a','e','i','o','u']\n",
    "    if a in vowels:\n",
    "        return True\n",
    "    else:\n",
    "        return False\n",
    "alpha=input('input a character:')\n",
    "print(is_vowel(alpha))\n"
   ]
  }
 ],
 "metadata": {
  "kernelspec": {
   "display_name": "Python 3",
   "language": "python",
   "name": "python3"
  },
  "language_info": {
   "codemirror_mode": {
    "name": "ipython",
    "version": 3
   },
   "file_extension": ".py",
   "mimetype": "text/x-python",
   "name": "python",
   "nbconvert_exporter": "python",
   "pygments_lexer": "ipython3",
   "version": "3.7.6"
  }
 },
 "nbformat": 4,
 "nbformat_minor": 4
}
